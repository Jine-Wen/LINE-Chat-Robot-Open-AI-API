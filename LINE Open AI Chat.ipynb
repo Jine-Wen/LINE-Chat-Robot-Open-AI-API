{
 "cells": [
  {
   "cell_type": "code",
   "execution_count": null,
   "metadata": {
    "colab": {
     "base_uri": "https://localhost:8080/"
    },
    "executionInfo": {
     "elapsed": 30490,
     "status": "ok",
     "timestamp": 1747378198053,
     "user": {
      "displayName": "Wang Jing Wen",
      "userId": "10856368974380193165"
     },
     "user_tz": -480
    },
    "id": "x6lkfEwQmaCf",
    "outputId": "a27f9c38-eda4-48e9-b811-49f46fb9785a"
   },
   "outputs": [
    {
     "name": "stdout",
     "output_type": "stream",
     "text": [
      "Mounted at /content/drive\n",
      "Requirement already satisfied: flask in /usr/local/lib/python3.11/dist-packages (3.1.1)\n",
      "Collecting line-bot-sdk\n",
      "  Downloading line_bot_sdk-3.17.1-py2.py3-none-any.whl.metadata (13 kB)\n",
      "Collecting pyngrok\n",
      "  Downloading pyngrok-7.2.8-py3-none-any.whl.metadata (10 kB)\n",
      "Requirement already satisfied: openai in /usr/local/lib/python3.11/dist-packages (1.78.1)\n",
      "Collecting flask-cors\n",
      "  Downloading flask_cors-5.0.1-py3-none-any.whl.metadata (961 bytes)\n",
      "Requirement already satisfied: pandas in /usr/local/lib/python3.11/dist-packages (2.2.2)\n",
      "Requirement already satisfied: blinker>=1.9.0 in /usr/local/lib/python3.11/dist-packages (from flask) (1.9.0)\n",
      "Requirement already satisfied: click>=8.1.3 in /usr/local/lib/python3.11/dist-packages (from flask) (8.2.0)\n",
      "Requirement already satisfied: itsdangerous>=2.2.0 in /usr/local/lib/python3.11/dist-packages (from flask) (2.2.0)\n",
      "Requirement already satisfied: jinja2>=3.1.2 in /usr/local/lib/python3.11/dist-packages (from flask) (3.1.6)\n",
      "Requirement already satisfied: markupsafe>=2.1.1 in /usr/local/lib/python3.11/dist-packages (from flask) (3.0.2)\n",
      "Requirement already satisfied: werkzeug>=3.1.0 in /usr/local/lib/python3.11/dist-packages (from flask) (3.1.3)\n",
      "Requirement already satisfied: requests<3,>=2.32.3 in /usr/local/lib/python3.11/dist-packages (from line-bot-sdk) (2.32.3)\n",
      "Requirement already satisfied: urllib3<3,>=2.0.5 in /usr/local/lib/python3.11/dist-packages (from line-bot-sdk) (2.4.0)\n",
      "Requirement already satisfied: aiohttp<4,>=3.10.9 in /usr/local/lib/python3.11/dist-packages (from line-bot-sdk) (3.11.15)\n",
      "Requirement already satisfied: future>=1.0.0 in /usr/local/lib/python3.11/dist-packages (from line-bot-sdk) (1.0.0)\n",
      "Requirement already satisfied: pydantic<3,>=2.0.3 in /usr/local/lib/python3.11/dist-packages (from line-bot-sdk) (2.11.4)\n",
      "Collecting aenum<4,>=3.1.11 (from line-bot-sdk)\n",
      "  Downloading aenum-3.1.16-py3-none-any.whl.metadata (3.8 kB)\n",
      "Requirement already satisfied: python_dateutil<3,>=2.5.3 in /usr/local/lib/python3.11/dist-packages (from line-bot-sdk) (2.9.0.post0)\n",
      "Collecting Deprecated>=1.2.18 (from line-bot-sdk)\n",
      "  Downloading Deprecated-1.2.18-py2.py3-none-any.whl.metadata (5.7 kB)\n",
      "Requirement already satisfied: PyYAML>=5.1 in /usr/local/lib/python3.11/dist-packages (from pyngrok) (6.0.2)\n",
      "Requirement already satisfied: anyio<5,>=3.5.0 in /usr/local/lib/python3.11/dist-packages (from openai) (4.9.0)\n",
      "Requirement already satisfied: distro<2,>=1.7.0 in /usr/local/lib/python3.11/dist-packages (from openai) (1.9.0)\n",
      "Requirement already satisfied: httpx<1,>=0.23.0 in /usr/local/lib/python3.11/dist-packages (from openai) (0.28.1)\n",
      "Requirement already satisfied: jiter<1,>=0.4.0 in /usr/local/lib/python3.11/dist-packages (from openai) (0.9.0)\n",
      "Requirement already satisfied: sniffio in /usr/local/lib/python3.11/dist-packages (from openai) (1.3.1)\n",
      "Requirement already satisfied: tqdm>4 in /usr/local/lib/python3.11/dist-packages (from openai) (4.67.1)\n",
      "Requirement already satisfied: typing-extensions<5,>=4.11 in /usr/local/lib/python3.11/dist-packages (from openai) (4.13.2)\n",
      "Requirement already satisfied: numpy>=1.23.2 in /usr/local/lib/python3.11/dist-packages (from pandas) (2.0.2)\n",
      "Requirement already satisfied: pytz>=2020.1 in /usr/local/lib/python3.11/dist-packages (from pandas) (2025.2)\n",
      "Requirement already satisfied: tzdata>=2022.7 in /usr/local/lib/python3.11/dist-packages (from pandas) (2025.2)\n",
      "Requirement already satisfied: aiohappyeyeballs>=2.3.0 in /usr/local/lib/python3.11/dist-packages (from aiohttp<4,>=3.10.9->line-bot-sdk) (2.6.1)\n",
      "Requirement already satisfied: aiosignal>=1.1.2 in /usr/local/lib/python3.11/dist-packages (from aiohttp<4,>=3.10.9->line-bot-sdk) (1.3.2)\n",
      "Requirement already satisfied: attrs>=17.3.0 in /usr/local/lib/python3.11/dist-packages (from aiohttp<4,>=3.10.9->line-bot-sdk) (25.3.0)\n",
      "Requirement already satisfied: frozenlist>=1.1.1 in /usr/local/lib/python3.11/dist-packages (from aiohttp<4,>=3.10.9->line-bot-sdk) (1.6.0)\n",
      "Requirement already satisfied: multidict<7.0,>=4.5 in /usr/local/lib/python3.11/dist-packages (from aiohttp<4,>=3.10.9->line-bot-sdk) (6.4.3)\n",
      "Requirement already satisfied: propcache>=0.2.0 in /usr/local/lib/python3.11/dist-packages (from aiohttp<4,>=3.10.9->line-bot-sdk) (0.3.1)\n",
      "Requirement already satisfied: yarl<2.0,>=1.17.0 in /usr/local/lib/python3.11/dist-packages (from aiohttp<4,>=3.10.9->line-bot-sdk) (1.20.0)\n",
      "Requirement already satisfied: idna>=2.8 in /usr/local/lib/python3.11/dist-packages (from anyio<5,>=3.5.0->openai) (3.10)\n",
      "Requirement already satisfied: wrapt<2,>=1.10 in /usr/local/lib/python3.11/dist-packages (from Deprecated>=1.2.18->line-bot-sdk) (1.17.2)\n",
      "Requirement already satisfied: certifi in /usr/local/lib/python3.11/dist-packages (from httpx<1,>=0.23.0->openai) (2025.4.26)\n",
      "Requirement already satisfied: httpcore==1.* in /usr/local/lib/python3.11/dist-packages (from httpx<1,>=0.23.0->openai) (1.0.9)\n",
      "Requirement already satisfied: h11>=0.16 in /usr/local/lib/python3.11/dist-packages (from httpcore==1.*->httpx<1,>=0.23.0->openai) (0.16.0)\n",
      "Requirement already satisfied: annotated-types>=0.6.0 in /usr/local/lib/python3.11/dist-packages (from pydantic<3,>=2.0.3->line-bot-sdk) (0.7.0)\n",
      "Requirement already satisfied: pydantic-core==2.33.2 in /usr/local/lib/python3.11/dist-packages (from pydantic<3,>=2.0.3->line-bot-sdk) (2.33.2)\n",
      "Requirement already satisfied: typing-inspection>=0.4.0 in /usr/local/lib/python3.11/dist-packages (from pydantic<3,>=2.0.3->line-bot-sdk) (0.4.0)\n",
      "Requirement already satisfied: six>=1.5 in /usr/local/lib/python3.11/dist-packages (from python_dateutil<3,>=2.5.3->line-bot-sdk) (1.17.0)\n",
      "Requirement already satisfied: charset-normalizer<4,>=2 in /usr/local/lib/python3.11/dist-packages (from requests<3,>=2.32.3->line-bot-sdk) (3.4.2)\n",
      "Downloading line_bot_sdk-3.17.1-py2.py3-none-any.whl (776 kB)\n",
      "\u001b[2K   \u001b[90m━━━━━━━━━━━━━━━━━━━━━━━━━━━━━━━━━━━━━━━━\u001b[0m \u001b[32m776.1/776.1 kB\u001b[0m \u001b[31m13.7 MB/s\u001b[0m eta \u001b[36m0:00:00\u001b[0m\n",
      "\u001b[?25hDownloading pyngrok-7.2.8-py3-none-any.whl (25 kB)\n",
      "Downloading flask_cors-5.0.1-py3-none-any.whl (11 kB)\n",
      "Downloading aenum-3.1.16-py3-none-any.whl (165 kB)\n",
      "\u001b[2K   \u001b[90m━━━━━━━━━━━━━━━━━━━━━━━━━━━━━━━━━━━━━━━━\u001b[0m \u001b[32m165.6/165.6 kB\u001b[0m \u001b[31m10.5 MB/s\u001b[0m eta \u001b[36m0:00:00\u001b[0m\n",
      "\u001b[?25hDownloading Deprecated-1.2.18-py2.py3-none-any.whl (10.0 kB)\n",
      "Installing collected packages: aenum, pyngrok, Deprecated, line-bot-sdk, flask-cors\n",
      "Successfully installed Deprecated-1.2.18 aenum-3.1.16 flask-cors-5.0.1 line-bot-sdk-3.17.1 pyngrok-7.2.8\n"
     ]
    }
   ],
   "source": [
    "#  Google Drive（讀取知識庫與 CSV 資料）\n",
    "from google.colab import drive\n",
    "drive.mount('/content/drive')\n",
    "\n",
    "# 安裝所需套件\n",
    "!pip install flask line-bot-sdk pyngrok openai flask-cors pandas\n"
   ]
  },
  {
   "cell_type": "code",
   "execution_count": null,
   "metadata": {
    "id": "sjU6NLGuuoE2"
   },
   "outputs": [],
   "source": [
    "# 設定環境變數（建議手動輸入）\n",
    "import os\n",
    "os.environ['LINE_CHANNEL_SECRET'] = '你的 LINE Channel Secret'\n",
    "os.environ['LINE_CHANNEL_TOKEN']  = '你的 LINE Channel Access Token'\n",
    "os.environ['OPENAI_API_KEY']     = '你的 OpenAI API Key'\n",
    "os.environ['NGROK_AUTHTOKEN']    = '你的 ngrok Authtoken'\n"
   ]
  },
  {
   "cell_type": "code",
   "execution_count": null,
   "metadata": {
    "colab": {
     "base_uri": "https://localhost:8080/"
    },
    "executionInfo": {
     "elapsed": 6670,
     "status": "ok",
     "timestamp": 1747378204774,
     "user": {
      "displayName": "Wang Jing Wen",
      "userId": "10856368974380193165"
     },
     "user_tz": -480
    },
    "id": "ta6XrG0OmRrg",
    "outputId": "fbcb7ec8-87e5-413b-debc-84a2c1856764"
   },
   "outputs": [
    {
     "name": "stderr",
     "output_type": "stream",
     "text": [
      "<ipython-input-4-043eb2bf5763>:82: LineBotSdkDeprecatedIn30: Call to deprecated class LineBotApi. (Use v3 class; linebot.v3.<feature>. See https://github.com/line/line-bot-sdk-python/blob/master/README.rst for more details.) -- Deprecated since version 3.0.0.\n",
      "  line_bot_api = LineBotApi(LINE_TOKEN)\n",
      "<ipython-input-4-043eb2bf5763>:83: LineBotSdkDeprecatedIn30: Call to deprecated class WebhookHandler. (Use 'from linebot.v3.webhook import WebhookHandler' instead. See https://github.com/line/line-bot-sdk-python/blob/master/README.rst for more details.) -- Deprecated since version 3.0.0.\n",
      "  handler      = WebhookHandler(LINE_SECRET)\n"
     ]
    }
   ],
   "source": [
    "# 載入套件與環境變數\n",
    "import os\n",
    "import json\n",
    "import pandas as pd\n",
    "from flask import Flask, request, abort\n",
    "from flask_cors import CORS\n",
    "from linebot import LineBotApi, WebhookHandler\n",
    "from linebot.exceptions import InvalidSignatureError\n",
    "from linebot.models import MessageEvent, TextMessage, TextSendMessage\n",
    "from pyngrok import ngrok\n",
    "import openai\n",
    "\n",
    "# 讀取環境變數\n",
    "LINE_SECRET = os.getenv('LINE_CHANNEL_SECRET')\n",
    "LINE_TOKEN  = os.getenv('LINE_CHANNEL_TOKEN')\n",
    "OPENAI_KEY  = os.getenv('OPENAI_API_KEY')\n",
    "NGROK_TOKEN = os.getenv('NGROK_AUTHTOKEN')\n",
    "openai.api_key = OPENAI_KEY\n",
    "\n",
    "#載入知識庫與 CSV 資料\n",
    "kb_path  = '/content/drive/MyDrive/Flask/knowledge_base.txt'\n",
    "if os.path.exists(kb_path):\n",
    "    with open(kb_path, 'r', encoding='utf-8') as f:\n",
    "        knowledge_base = f.read()\n",
    "else:\n",
    "    knowledge_base = '知識庫檔案未找到，使用預設內容。'\n",
    "\n",
    "# 定義 function-calling 的 JSON schema\n",
    "functions = [\n",
    "    {\n",
    "        \"name\": \"generate_structured\",\n",
    "        \"description\": \"回傳符合指定 schema 的結構化回應，僅輸出 JSON\",\n",
    "        \"parameters\": {\n",
    "            \"type\": \"object\",\n",
    "            \"properties\": {\n",
    "                \"title\": {\n",
    "                    \"type\": \"string\",\n",
    "                    \"description\": \"回應的標題\"\n",
    "                },\n",
    "                \"steps\": {\n",
    "                    \"type\": \"array\",\n",
    "                    \"items\": {\"type\": \"string\"},\n",
    "                    \"description\": \"步驟或重點清單\"\n",
    "                },\n",
    "                \"notes\": {\n",
    "                    \"type\": \"string\",\n",
    "                    \"description\": \"額外備註（可選）\"\n",
    "                }\n",
    "            },\n",
    "            \"required\": [\"title\", \"steps\"]\n",
    "        }\n",
    "    }\n",
    "]\n",
    "\n",
    "# 定義取得結構化回應的函式\n",
    "def get_structured_response(user_input, previous=None):\n",
    "    messages = [\n",
    "        {\"role\": \"system\", \"content\": \"Knowledge Base:\\n\" + knowledge_base},\n",
    "        {\"role\": \"system\", \"content\": \"請根據指定的 JSON schema 回傳結構化回應，且僅輸出 JSON，不要其他文字。\"}\n",
    "    ]\n",
    "    if previous:\n",
    "        messages.append({\"role\": \"assistant\", \"content\": previous})\n",
    "    messages.append({\"role\": \"user\", \"content\": user_input})\n",
    "\n",
    "    resp = openai.chat.completions.create(\n",
    "        model=\"gpt-4o-mini\",\n",
    "        messages=messages,\n",
    "        functions=functions,\n",
    "        function_call={\"name\": \"generate_structured\"},\n",
    "        max_tokens=250,\n",
    "        temperature=0.7,\n",
    "        frequency_penalty=0.8,\n",
    "        presence_penalty=0.6\n",
    "    )\n",
    "\n",
    "    args_str = resp.choices[0].message.function_call.arguments\n",
    "    return json.loads(args_str)\n",
    "\n",
    "# 初始化 Flask 與 LINE Bot\n",
    "app = Flask(__name__)\n",
    "CORS(app)\n",
    "line_bot_api = LineBotApi(LINE_TOKEN)\n",
    "handler      = WebhookHandler(LINE_SECRET)\n",
    "BOT_NAME = \"貼心小助理\"  \n",
    "\n",
    "# Webhook 路由\n",
    "@app.route('/callback', methods=['POST'])\n",
    "def callback():\n",
    "    signature = request.headers.get('X-Line-Signature', '')\n",
    "    body = request.get_data(as_text=True)\n",
    "    try:\n",
    "        handler.handle(body, signature)\n",
    "    except InvalidSignatureError:\n",
    "        abort(400)\n",
    "    return 'OK'\n",
    "\n",
    "# 處理訊息\n",
    "@handler.add(MessageEvent, message=TextMessage)\n",
    "def handle_message(event):\n",
    "    user_text   = event.message.text\n",
    "    source_type = event.source.type\n",
    "    mention_tag = f\"@{BOT_NAME}\"\n",
    "    should_reply = False\n",
    "    clean_text   = \"\"\n",
    "\n",
    "    # 私聊回覆\n",
    "    if source_type == 'user':\n",
    "        should_reply = True\n",
    "        clean_text = user_text.strip()\n",
    "\n",
    "    # 群組/聊天室需 @ 才回覆\n",
    "    elif source_type in ['group', 'room'] and mention_tag.lower() in user_text.lower():\n",
    "        should_reply = True\n",
    "        # 移除第一個 @\n",
    "        clean_text = user_text.replace(mention_tag, \"\", 1).strip()\n",
    "        if not clean_text:\n",
    "            # 處理不同大小寫或其他\n",
    "            for word in user_text.split():\n",
    "                if word.lower().startswith(f\"@{BOT_NAME.lower()}\"):\n",
    "                    clean_text = user_text.replace(word, \"\", 1).strip()\n",
    "                    break\n",
    "\n",
    "    # 如果符合條件呼叫 GPT 回覆\n",
    "    if should_reply and clean_text:\n",
    "        structured = get_structured_response(clean_text)\n",
    "        title = structured.get(\"title\", \"\")\n",
    "        steps = structured.get(\"steps\", [])\n",
    "        notes = structured.get(\"notes\", \"\")\n",
    "\n",
    "        # 組成純文字回覆\n",
    "        reply_lines = []\n",
    "        if title:\n",
    "            reply_lines.append(f\"📌 {title}\")\n",
    "        for idx, step in enumerate(steps, start=1):\n",
    "            reply_lines.append(f\"{idx}. {step}\")\n",
    "        if notes:\n",
    "            reply_lines.append(f\"\\n💡 備註：{notes}\")\n",
    "\n",
    "        reply_text = \"\\n\".join(reply_lines)\n",
    "        line_bot_api.reply_message(\n",
    "            event.reply_token,\n",
    "            TextSendMessage(text=reply_text)\n",
    "        )"
   ]
  },
  {
   "cell_type": "code",
   "execution_count": null,
   "metadata": {
    "colab": {
     "base_uri": "https://localhost:8080/"
    },
    "executionInfo": {
     "elapsed": 485459,
     "status": "ok",
     "timestamp": 1747378690234,
     "user": {
      "displayName": "Wang Jing Wen",
      "userId": "10856368974380193165"
     },
     "user_tz": -480
    },
    "id": "FvLL2_hUnink",
    "outputId": "fecd23a4-7ab1-4b60-efb3-427f77cd215c"
   },
   "outputs": [
    {
     "name": "stdout",
     "output_type": "stream",
     "text": [
      "請將此 URL 填入 LINE Developers → Webhook URL：https://209d-34-27-77-131.ngrok-free.app/callback\n",
      " * Serving Flask app '__main__'\n",
      " * Debug mode: off\n"
     ]
    },
    {
     "name": "stderr",
     "output_type": "stream",
     "text": [
      "INFO:werkzeug:\u001b[31m\u001b[1mWARNING: This is a development server. Do not use it in a production deployment. Use a production WSGI server instead.\u001b[0m\n",
      " * Running on all addresses (0.0.0.0)\n",
      " * Running on http://127.0.0.1:5000\n",
      " * Running on http://172.28.0.12:5000\n",
      "INFO:werkzeug:\u001b[33mPress CTRL+C to quit\u001b[0m\n",
      "<ipython-input-4-043eb2bf5763>:140: LineBotSdkDeprecatedIn30: Call to deprecated method reply_message. (Use 'from linebot.v3.messaging import MessagingApi' and 'MessagingApi(...).reply_message(...)' instead. See https://github.com/line/line-bot-sdk-python/blob/master/README.rst for more details.) -- Deprecated since version 3.0.0.\n",
      "  line_bot_api.reply_message(\n",
      "INFO:werkzeug:127.0.0.1 - - [16/May/2025 06:52:54] \"POST /callback HTTP/1.1\" 200 -\n",
      "INFO:werkzeug:127.0.0.1 - - [16/May/2025 06:52:56] \"POST /callback HTTP/1.1\" 200 -\n",
      "INFO:werkzeug:127.0.0.1 - - [16/May/2025 06:53:01] \"POST /callback HTTP/1.1\" 200 -\n",
      "INFO:werkzeug:127.0.0.1 - - [16/May/2025 06:53:23] \"POST /callback HTTP/1.1\" 200 -\n",
      "INFO:werkzeug:127.0.0.1 - - [16/May/2025 06:54:18] \"POST /callback HTTP/1.1\" 200 -\n",
      "INFO:werkzeug:127.0.0.1 - - [16/May/2025 06:55:09] \"POST /callback HTTP/1.1\" 200 -\n",
      "INFO:werkzeug:127.0.0.1 - - [16/May/2025 06:55:35] \"POST /callback HTTP/1.1\" 200 -\n",
      "INFO:werkzeug:127.0.0.1 - - [16/May/2025 06:55:43] \"POST /callback HTTP/1.1\" 200 -\n",
      "INFO:werkzeug:127.0.0.1 - - [16/May/2025 06:55:46] \"POST /callback HTTP/1.1\" 200 -\n",
      "INFO:werkzeug:127.0.0.1 - - [16/May/2025 06:55:48] \"POST /callback HTTP/1.1\" 200 -\n",
      "INFO:werkzeug:127.0.0.1 - - [16/May/2025 06:55:53] \"POST /callback HTTP/1.1\" 200 -\n",
      "INFO:werkzeug:127.0.0.1 - - [16/May/2025 06:55:57] \"POST /callback HTTP/1.1\" 200 -\n",
      "INFO:werkzeug:127.0.0.1 - - [16/May/2025 06:56:04] \"POST /callback HTTP/1.1\" 200 -\n",
      "INFO:werkzeug:127.0.0.1 - - [16/May/2025 06:56:04] \"POST /callback HTTP/1.1\" 200 -\n",
      "INFO:werkzeug:127.0.0.1 - - [16/May/2025 06:56:19] \"POST /callback HTTP/1.1\" 200 -\n",
      "INFO:werkzeug:127.0.0.1 - - [16/May/2025 06:56:21] \"POST /callback HTTP/1.1\" 200 -\n",
      "INFO:werkzeug:127.0.0.1 - - [16/May/2025 06:56:27] \"POST /callback HTTP/1.1\" 200 -\n",
      "INFO:werkzeug:127.0.0.1 - - [16/May/2025 06:56:44] \"POST /callback HTTP/1.1\" 200 -\n",
      "INFO:werkzeug:127.0.0.1 - - [16/May/2025 06:56:46] \"POST /callback HTTP/1.1\" 200 -\n",
      "INFO:werkzeug:127.0.0.1 - - [16/May/2025 06:56:56] \"POST /callback HTTP/1.1\" 200 -\n",
      "INFO:werkzeug:127.0.0.1 - - [16/May/2025 06:57:11] \"POST /callback HTTP/1.1\" 200 -\n",
      "INFO:werkzeug:127.0.0.1 - - [16/May/2025 06:57:20] \"POST /callback HTTP/1.1\" 200 -\n",
      "INFO:werkzeug:127.0.0.1 - - [16/May/2025 06:57:57] \"POST /callback HTTP/1.1\" 200 -\n"
     ]
    }
   ],
   "source": [
    "if __name__ == '__main__':\n",
    "    ngrok.set_auth_token(NGROK_TOKEN)\n",
    "    public_url = ngrok.connect(5000).public_url\n",
    "    print(f'請將此 URL 填入 LINE Developers → Webhook URL：{public_url}/callback')\n",
    "    app.run(host='0.0.0.0', port=5000)"
   ]
  }
 ],
 "metadata": {
  "colab": {
   "authorship_tag": "ABX9TyMf/+oVATfHMHGYMxc/HD/A",
   "provenance": []
  },
  "kernelspec": {
   "display_name": "Python 3",
   "name": "python3"
  },
  "language_info": {
   "name": "python"
  }
 },
 "nbformat": 4,
 "nbformat_minor": 0
}
